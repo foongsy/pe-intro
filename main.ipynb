{
 "cells": [
  {
   "cell_type": "code",
   "execution_count": 1,
   "metadata": {},
   "outputs": [],
   "source": [
    "import os\n",
    "from langchain_google_vertexai.model_garden import ChatAnthropicVertex\n",
    "from langchain_google_vertexai import ChatVertexAI\n",
    "from langchain_core.prompts import PromptTemplate, ChatPromptTemplate\n",
    "from langchain_core.runnables import Runnable\n",
    "\n",
    "os.environ['GOOGLE_APPLICATION_CREDENTIALS'] = 'service_account.json'"
   ]
  },
  {
   "cell_type": "code",
   "execution_count": 8,
   "metadata": {},
   "outputs": [],
   "source": [
    "sonnet_chat = ChatAnthropicVertex(\n",
    "    model_name=\"claude-3-sonnet@20240229\",\n",
    "    project='vtxclass',\n",
    "    location='asia-southeast1',\n",
    "    max_tokens=1024,\n",
    "    top_p=0.7,\n",
    "    temperature=0.7\n",
    ")\n",
    "gemini_chat = ChatVertexAI(\n",
    "    model_name=\"gemini-pro\",\n",
    "    project='vtxclass',\n",
    "    location='asia-southeast1',\n",
    "    max_tokens=1024,\n",
    "    top_p=0.7,\n",
    "    temperature=0.7\n",
    ")"
   ]
  },
  {
   "cell_type": "markdown",
   "metadata": {},
   "source": []
  },
  {
   "cell_type": "code",
   "execution_count": null,
   "metadata": {},
   "outputs": [],
   "source": []
  }
 ],
 "metadata": {
  "kernelspec": {
   "display_name": "pe",
   "language": "python",
   "name": "python3"
  },
  "language_info": {
   "codemirror_mode": {
    "name": "ipython",
    "version": 3
   },
   "file_extension": ".py",
   "mimetype": "text/x-python",
   "name": "python",
   "nbconvert_exporter": "python",
   "pygments_lexer": "ipython3",
   "version": "3.11.8"
  }
 },
 "nbformat": 4,
 "nbformat_minor": 2
}
